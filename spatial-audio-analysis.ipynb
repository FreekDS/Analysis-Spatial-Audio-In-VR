{
 "cells": [
  {
   "cell_type": "markdown",
   "source": [
    "# Spatial audio in VR - Experiment results"
   ],
   "metadata": {
    "collapsed": false,
    "pycharm": {
     "name": "#%% md\n"
    }
   }
  },
  {
   "cell_type": "markdown",
   "source": [],
   "metadata": {
    "collapsed": false
   }
  },
  {
   "cell_type": "code",
   "source": [
    "# Required imports\n",
    "\n",
    "import pandas as pd\n",
    "import os\n",
    "import datetime\n",
    "import matplotlib.pyplot as plt"
   ],
   "metadata": {
    "collapsed": false,
    "pycharm": {
     "name": "#%%\n"
    }
   },
   "execution_count": 1,
   "outputs": []
  },
  {
   "cell_type": "code",
   "execution_count": 2,
   "outputs": [],
   "source": [
    "# Helper functions and variables\n",
    "def percentage(v, total, round_pct=True):\n",
    "    val = v / float(total) * 100\n",
    "    return f\"{round(val, 2)}%\" if round_pct else f\"{val}%\"\n",
    "\n",
    "\n",
    "UTF_DATE = \"%Y-%m-%dT%H:%M:%SZ\"\n",
    "P_DATE = \"%d-%m-%Y %H:%M:%S\"\n",
    "\n",
    "SOUND_COUNT = 10"
   ],
   "metadata": {
    "collapsed": false,
    "pycharm": {
     "name": "#%%\n"
    }
   }
  },
  {
   "cell_type": "code",
   "execution_count": 3,
   "outputs": [
    {
     "data": {
      "text/plain": "             Timestamp  Age Sex  \\\n0  2022-05-20 14:20:59   22   M   \n1  2022-05-21 11:37:04   16   F   \n2  2022-05-21 12:45:10   20   M   \n3  2022-05-21 12:55:56   53   M   \n4  2022-05-21 20:38:28   52   M   \n5  2022-05-21 20:48:06   54   F   \n6  2022-05-21 21:01:03   22   F   \n7  2022-05-21 21:21:47   20   M   \n8  2022-05-22 10:50:37   50   M   \n9  2022-05-22 16:29:29   77   F   \n10 2022-05-23 11:05:02   21   M   \n11 2022-05-23 19:21:06   22   M   \n12 2022-05-25 09:30:21   24   M   \n13 2022-05-25 11:56:51   20   M   \n14 2022-05-27 13:13:17   22   M   \n\n                                     Occupation/study  VR Experience  \\\n0                                        informatica               0   \n1                                humane wetenschappen              1   \n2   Farmaceutische en biologische laboratoriumtech...              1   \n3                                Docent verpleegkunde              1   \n4                                            bediende              1   \n5                                            bediende              0   \n6                                     Lager onderwijs              1   \n7                             Audiovisuele technieken              1   \n8                                          leerkracht              1   \n9                                       Gepensioneerd              0   \n10                                        Informatica              1   \n11                                             Chemie              0   \n12                                 Master informatica              4   \n13                    Industrieel ingenieur Bouwkunde              0   \n14                                        Informatica              0   \n\n    HPosScore  VPosScore  SoundDistEstimate  SoundNatureScore  ControlsScore  \\\n0           2          4                  4                 2              5   \n1           4          4                  3                 5              5   \n2           4          3                  4                 5              4   \n3           5          5                  5                 5              5   \n4           4          4                  4                 5              5   \n5           3          3                  3                 4              4   \n6           3          4                  3                 4              5   \n7           4          4                  3                 4              5   \n8           4          3                  3                 4              5   \n9           4          2                  3                 3              2   \n10          4          2                  5                 3              5   \n11          5          3                  4                 3              2   \n12          5          3                  4                 5              5   \n13          4          4                  3                 5              4   \n14          4          2                  4                 4              5   \n\n    MotionSickness                                           Feedback  \n0                1                                                  /  \n1                1                                                NaN  \n2                1                                                NaN  \n3                1       Vlot te hanteren, leuk, eenvoudige besturing  \n4                1                                                NaN  \n5                1                                                NaN  \n6                3                     Het was enorm leuk om te doen!  \n7                1                                                NaN  \n8                3  ik zat er helemaal \"in\" - hoofddoel is muntjes...  \n9                1  In het begin ging het moeizamer (voor besturin...  \n10               1  Er is een bepaalde afstand waarop het geluid n...  \n11               1                                               Neen  \n12               1  In de kamer was de audio locatie het moeilijks...  \n13               4                                                NaN  \n14               2                                                NaN  ",
      "text/html": "<div>\n<style scoped>\n    .dataframe tbody tr th:only-of-type {\n        vertical-align: middle;\n    }\n\n    .dataframe tbody tr th {\n        vertical-align: top;\n    }\n\n    .dataframe thead th {\n        text-align: right;\n    }\n</style>\n<table border=\"1\" class=\"dataframe\">\n  <thead>\n    <tr style=\"text-align: right;\">\n      <th></th>\n      <th>Timestamp</th>\n      <th>Age</th>\n      <th>Sex</th>\n      <th>Occupation/study</th>\n      <th>VR Experience</th>\n      <th>HPosScore</th>\n      <th>VPosScore</th>\n      <th>SoundDistEstimate</th>\n      <th>SoundNatureScore</th>\n      <th>ControlsScore</th>\n      <th>MotionSickness</th>\n      <th>Feedback</th>\n    </tr>\n  </thead>\n  <tbody>\n    <tr>\n      <th>0</th>\n      <td>2022-05-20 14:20:59</td>\n      <td>22</td>\n      <td>M</td>\n      <td>informatica</td>\n      <td>0</td>\n      <td>2</td>\n      <td>4</td>\n      <td>4</td>\n      <td>2</td>\n      <td>5</td>\n      <td>1</td>\n      <td>/</td>\n    </tr>\n    <tr>\n      <th>1</th>\n      <td>2022-05-21 11:37:04</td>\n      <td>16</td>\n      <td>F</td>\n      <td>humane wetenschappen</td>\n      <td>1</td>\n      <td>4</td>\n      <td>4</td>\n      <td>3</td>\n      <td>5</td>\n      <td>5</td>\n      <td>1</td>\n      <td>NaN</td>\n    </tr>\n    <tr>\n      <th>2</th>\n      <td>2022-05-21 12:45:10</td>\n      <td>20</td>\n      <td>M</td>\n      <td>Farmaceutische en biologische laboratoriumtech...</td>\n      <td>1</td>\n      <td>4</td>\n      <td>3</td>\n      <td>4</td>\n      <td>5</td>\n      <td>4</td>\n      <td>1</td>\n      <td>NaN</td>\n    </tr>\n    <tr>\n      <th>3</th>\n      <td>2022-05-21 12:55:56</td>\n      <td>53</td>\n      <td>M</td>\n      <td>Docent verpleegkunde</td>\n      <td>1</td>\n      <td>5</td>\n      <td>5</td>\n      <td>5</td>\n      <td>5</td>\n      <td>5</td>\n      <td>1</td>\n      <td>Vlot te hanteren, leuk, eenvoudige besturing</td>\n    </tr>\n    <tr>\n      <th>4</th>\n      <td>2022-05-21 20:38:28</td>\n      <td>52</td>\n      <td>M</td>\n      <td>bediende</td>\n      <td>1</td>\n      <td>4</td>\n      <td>4</td>\n      <td>4</td>\n      <td>5</td>\n      <td>5</td>\n      <td>1</td>\n      <td>NaN</td>\n    </tr>\n    <tr>\n      <th>5</th>\n      <td>2022-05-21 20:48:06</td>\n      <td>54</td>\n      <td>F</td>\n      <td>bediende</td>\n      <td>0</td>\n      <td>3</td>\n      <td>3</td>\n      <td>3</td>\n      <td>4</td>\n      <td>4</td>\n      <td>1</td>\n      <td>NaN</td>\n    </tr>\n    <tr>\n      <th>6</th>\n      <td>2022-05-21 21:01:03</td>\n      <td>22</td>\n      <td>F</td>\n      <td>Lager onderwijs</td>\n      <td>1</td>\n      <td>3</td>\n      <td>4</td>\n      <td>3</td>\n      <td>4</td>\n      <td>5</td>\n      <td>3</td>\n      <td>Het was enorm leuk om te doen!</td>\n    </tr>\n    <tr>\n      <th>7</th>\n      <td>2022-05-21 21:21:47</td>\n      <td>20</td>\n      <td>M</td>\n      <td>Audiovisuele technieken</td>\n      <td>1</td>\n      <td>4</td>\n      <td>4</td>\n      <td>3</td>\n      <td>4</td>\n      <td>5</td>\n      <td>1</td>\n      <td>NaN</td>\n    </tr>\n    <tr>\n      <th>8</th>\n      <td>2022-05-22 10:50:37</td>\n      <td>50</td>\n      <td>M</td>\n      <td>leerkracht</td>\n      <td>1</td>\n      <td>4</td>\n      <td>3</td>\n      <td>3</td>\n      <td>4</td>\n      <td>5</td>\n      <td>3</td>\n      <td>ik zat er helemaal \"in\" - hoofddoel is muntjes...</td>\n    </tr>\n    <tr>\n      <th>9</th>\n      <td>2022-05-22 16:29:29</td>\n      <td>77</td>\n      <td>F</td>\n      <td>Gepensioneerd</td>\n      <td>0</td>\n      <td>4</td>\n      <td>2</td>\n      <td>3</td>\n      <td>3</td>\n      <td>2</td>\n      <td>1</td>\n      <td>In het begin ging het moeizamer (voor besturin...</td>\n    </tr>\n    <tr>\n      <th>10</th>\n      <td>2022-05-23 11:05:02</td>\n      <td>21</td>\n      <td>M</td>\n      <td>Informatica</td>\n      <td>1</td>\n      <td>4</td>\n      <td>2</td>\n      <td>5</td>\n      <td>3</td>\n      <td>5</td>\n      <td>1</td>\n      <td>Er is een bepaalde afstand waarop het geluid n...</td>\n    </tr>\n    <tr>\n      <th>11</th>\n      <td>2022-05-23 19:21:06</td>\n      <td>22</td>\n      <td>M</td>\n      <td>Chemie</td>\n      <td>0</td>\n      <td>5</td>\n      <td>3</td>\n      <td>4</td>\n      <td>3</td>\n      <td>2</td>\n      <td>1</td>\n      <td>Neen</td>\n    </tr>\n    <tr>\n      <th>12</th>\n      <td>2022-05-25 09:30:21</td>\n      <td>24</td>\n      <td>M</td>\n      <td>Master informatica</td>\n      <td>4</td>\n      <td>5</td>\n      <td>3</td>\n      <td>4</td>\n      <td>5</td>\n      <td>5</td>\n      <td>1</td>\n      <td>In de kamer was de audio locatie het moeilijks...</td>\n    </tr>\n    <tr>\n      <th>13</th>\n      <td>2022-05-25 11:56:51</td>\n      <td>20</td>\n      <td>M</td>\n      <td>Industrieel ingenieur Bouwkunde</td>\n      <td>0</td>\n      <td>4</td>\n      <td>4</td>\n      <td>3</td>\n      <td>5</td>\n      <td>4</td>\n      <td>4</td>\n      <td>NaN</td>\n    </tr>\n    <tr>\n      <th>14</th>\n      <td>2022-05-27 13:13:17</td>\n      <td>22</td>\n      <td>M</td>\n      <td>Informatica</td>\n      <td>0</td>\n      <td>4</td>\n      <td>2</td>\n      <td>4</td>\n      <td>4</td>\n      <td>5</td>\n      <td>2</td>\n      <td>NaN</td>\n    </tr>\n  </tbody>\n</table>\n</div>"
     },
     "execution_count": 3,
     "metadata": {},
     "output_type": "execute_result"
    }
   ],
   "source": [
    "# Read participants data\n",
    "participants_df = pd.read_csv(\"./data/participants.csv\")\n",
    "participants_df['Sex'] = participants_df['Sex'].replace(['Man', 'Vrouw'], ['M', 'F'])\n",
    "participants_df['VR Experience'] = participants_df['VR Experience'].replace(\n",
    "    ['Geen', 'Wel al eens geprobeerd', 'Speelt af en toe', 'Speelt regelmatig', 'Speelt wekelijks'],\n",
    "    [0, 1, 2, 3, 4]\n",
    ")\n",
    "participants_df['Timestamp'] = pd.to_datetime(participants_df.Timestamp, format=P_DATE)\n",
    "\n",
    "participants_df.head(15)"
   ],
   "metadata": {
    "collapsed": false,
    "pycharm": {
     "name": "#%%\n"
    }
   }
  },
  {
   "cell_type": "code",
   "metadata": {
    "collapsed": true,
    "pycharm": {
     "name": "#%%\n"
    }
   },
   "source": [
    "# Read rotation data\n",
    "\n",
    "rot_loc_dfs = list()\n",
    "\n",
    "for filename in os.listdir(\"./data/rotation-location\"):\n",
    "    rot_loc_dfs.append(\n",
    "        pd.read_csv(f\"./data/rotation-location/{filename}\", delimiter=';')\n",
    "    )\n",
    "\n",
    "rot_loc_dfs[0].head()"
   ],
   "execution_count": 4,
   "outputs": [
    {
     "data": {
      "text/plain": "                   time                           position  \\\n0  2022-05-20T14:11:49Z   (0.01216268,2.489398,-0.1615756)   \n1  2022-05-20T14:11:49Z   (0.01043249,2.190978,-0.1597213)   \n2  2022-05-20T14:11:49Z  (0.009028446,2.189787,-0.1574484)   \n3  2022-05-20T14:11:49Z  (0.008340128,2.188898,-0.1555549)   \n4  2022-05-20T14:11:49Z  (0.008264536,2.188483,-0.1530411)   \n\n                      rotationE  \\\n0  (353.3962,276.6872,359.3815)   \n1   (354.053,276.0133,359.1425)   \n2     (354.55,275.8416,358.922)   \n3  (354.9409,276.1456,358.8665)   \n4  (355.2329,276.1987,358.8331)   \n\n                                        rotationQ  \n0   (0.7456865,-0.0394508,-0.6637812,-0.04230781)  \n1  (0.7419415,-0.03355309,-0.6684132,-0.04025945)  \n2   (0.7410472,-0.02898795,-0.669702,-0.03883384)  \n3   (0.7429413,-0.02623146,-0.667827,-0.03684012)  \n4   (0.7433386,-0.02415862,-0.6675438,-0.0353458)  ",
      "text/html": "<div>\n<style scoped>\n    .dataframe tbody tr th:only-of-type {\n        vertical-align: middle;\n    }\n\n    .dataframe tbody tr th {\n        vertical-align: top;\n    }\n\n    .dataframe thead th {\n        text-align: right;\n    }\n</style>\n<table border=\"1\" class=\"dataframe\">\n  <thead>\n    <tr style=\"text-align: right;\">\n      <th></th>\n      <th>time</th>\n      <th>position</th>\n      <th>rotationE</th>\n      <th>rotationQ</th>\n    </tr>\n  </thead>\n  <tbody>\n    <tr>\n      <th>0</th>\n      <td>2022-05-20T14:11:49Z</td>\n      <td>(0.01216268,2.489398,-0.1615756)</td>\n      <td>(353.3962,276.6872,359.3815)</td>\n      <td>(0.7456865,-0.0394508,-0.6637812,-0.04230781)</td>\n    </tr>\n    <tr>\n      <th>1</th>\n      <td>2022-05-20T14:11:49Z</td>\n      <td>(0.01043249,2.190978,-0.1597213)</td>\n      <td>(354.053,276.0133,359.1425)</td>\n      <td>(0.7419415,-0.03355309,-0.6684132,-0.04025945)</td>\n    </tr>\n    <tr>\n      <th>2</th>\n      <td>2022-05-20T14:11:49Z</td>\n      <td>(0.009028446,2.189787,-0.1574484)</td>\n      <td>(354.55,275.8416,358.922)</td>\n      <td>(0.7410472,-0.02898795,-0.669702,-0.03883384)</td>\n    </tr>\n    <tr>\n      <th>3</th>\n      <td>2022-05-20T14:11:49Z</td>\n      <td>(0.008340128,2.188898,-0.1555549)</td>\n      <td>(354.9409,276.1456,358.8665)</td>\n      <td>(0.7429413,-0.02623146,-0.667827,-0.03684012)</td>\n    </tr>\n    <tr>\n      <th>4</th>\n      <td>2022-05-20T14:11:49Z</td>\n      <td>(0.008264536,2.188483,-0.1530411)</td>\n      <td>(355.2329,276.1987,358.8331)</td>\n      <td>(0.7433386,-0.02415862,-0.6675438,-0.0353458)</td>\n    </tr>\n  </tbody>\n</table>\n</div>"
     },
     "execution_count": 4,
     "metadata": {},
     "output_type": "execute_result"
    }
   ]
  },
  {
   "cell_type": "code",
   "execution_count": 5,
   "outputs": [
    {
     "data": {
      "text/plain": "    PersonID                         Name Type            Pos  \\\n0          0     ambisonic-chicken-edited   AS   (-19, 1, -5)   \n1          0                         bird  NSS   (24, 7, -14)   \n2          0                        creak  NUS    (-5, 3, 25)   \n3          0                   door_crack  NNS   (-8, 2, -26)   \n4          0                   door_crack  NNS   (-8, 2, -26)   \n5          0  australian-currawong-edited   AS  (-32, 4, -34)   \n6          0  australian-currawong-edited   AS  (-32, 4, -34)   \n7          0              elevator-edited   AN   (-18, 3, 18)   \n8          0              elevator-edited   AN   (-18, 3, 18)   \n9          0                        creak  NUS    (-5, 3, 25)   \n10         0                        creak  NUS    (-5, 3, 25)   \n11         0                        creak  NUS    (-5, 3, 25)   \n12         0                     cowbells  NNS   (18, 4, -55)   \n\n             PlayStart             PlayEnd           LookStart  \\\n0  2022-05-20 14:11:58 2022-05-20 14:11:58 2022-05-20 14:11:58   \n1  2022-05-20 14:12:19 2022-05-20 14:12:31 2022-05-20 14:12:22   \n2  2022-05-20 14:12:55 2022-05-20 14:13:53 2022-05-20 14:12:56   \n3  2022-05-20 14:14:02 2022-05-20 14:14:20 2022-05-20 14:14:03   \n4  2022-05-20 14:14:02 2022-05-20 14:14:20 2022-05-20 14:14:09   \n5  2022-05-20 14:14:37 2022-05-20 14:14:50 2022-05-20 14:14:39   \n6  2022-05-20 14:14:37 2022-05-20 14:14:50 2022-05-20 14:14:43   \n7  2022-05-20 14:15:09 2022-05-20 14:15:18 2022-05-20 14:15:11   \n8  2022-05-20 14:15:09 2022-05-20 14:15:18 2022-05-20 14:15:16   \n9  2022-05-20 14:15:18 2022-05-20 14:15:18 2022-05-20 14:15:18   \n10 2022-05-20 14:15:18 2022-05-20 14:15:24 2022-05-20 14:15:19   \n11 2022-05-20 14:15:32 2022-05-20 14:15:38 2022-05-20 14:15:32   \n12 2022-05-20 14:17:09 2022-05-20 14:17:10 2022-05-20 14:17:10   \n\n               LookEnd RangeType  \n0  2022-05-20 14:11:58       far  \n1  2022-05-20 14:12:23       far  \n2  2022-05-20 14:12:57       far  \n3  2022-05-20 14:14:03       far  \n4  2022-05-20 14:14:11       far  \n5  2022-05-20 14:14:39       far  \n6  2022-05-20 14:14:43       far  \n7  2022-05-20 14:15:11       far  \n8  2022-05-20 14:15:16       far  \n9  2022-05-20 14:15:18       far  \n10 2022-05-20 14:15:21       far  \n11 2022-05-20 14:15:33       far  \n12 2022-05-20 14:17:10       far  ",
      "text/html": "<div>\n<style scoped>\n    .dataframe tbody tr th:only-of-type {\n        vertical-align: middle;\n    }\n\n    .dataframe tbody tr th {\n        vertical-align: top;\n    }\n\n    .dataframe thead th {\n        text-align: right;\n    }\n</style>\n<table border=\"1\" class=\"dataframe\">\n  <thead>\n    <tr style=\"text-align: right;\">\n      <th></th>\n      <th>PersonID</th>\n      <th>Name</th>\n      <th>Type</th>\n      <th>Pos</th>\n      <th>PlayStart</th>\n      <th>PlayEnd</th>\n      <th>LookStart</th>\n      <th>LookEnd</th>\n      <th>RangeType</th>\n    </tr>\n  </thead>\n  <tbody>\n    <tr>\n      <th>0</th>\n      <td>0</td>\n      <td>ambisonic-chicken-edited</td>\n      <td>AS</td>\n      <td>(-19, 1, -5)</td>\n      <td>2022-05-20 14:11:58</td>\n      <td>2022-05-20 14:11:58</td>\n      <td>2022-05-20 14:11:58</td>\n      <td>2022-05-20 14:11:58</td>\n      <td>far</td>\n    </tr>\n    <tr>\n      <th>1</th>\n      <td>0</td>\n      <td>bird</td>\n      <td>NSS</td>\n      <td>(24, 7, -14)</td>\n      <td>2022-05-20 14:12:19</td>\n      <td>2022-05-20 14:12:31</td>\n      <td>2022-05-20 14:12:22</td>\n      <td>2022-05-20 14:12:23</td>\n      <td>far</td>\n    </tr>\n    <tr>\n      <th>2</th>\n      <td>0</td>\n      <td>creak</td>\n      <td>NUS</td>\n      <td>(-5, 3, 25)</td>\n      <td>2022-05-20 14:12:55</td>\n      <td>2022-05-20 14:13:53</td>\n      <td>2022-05-20 14:12:56</td>\n      <td>2022-05-20 14:12:57</td>\n      <td>far</td>\n    </tr>\n    <tr>\n      <th>3</th>\n      <td>0</td>\n      <td>door_crack</td>\n      <td>NNS</td>\n      <td>(-8, 2, -26)</td>\n      <td>2022-05-20 14:14:02</td>\n      <td>2022-05-20 14:14:20</td>\n      <td>2022-05-20 14:14:03</td>\n      <td>2022-05-20 14:14:03</td>\n      <td>far</td>\n    </tr>\n    <tr>\n      <th>4</th>\n      <td>0</td>\n      <td>door_crack</td>\n      <td>NNS</td>\n      <td>(-8, 2, -26)</td>\n      <td>2022-05-20 14:14:02</td>\n      <td>2022-05-20 14:14:20</td>\n      <td>2022-05-20 14:14:09</td>\n      <td>2022-05-20 14:14:11</td>\n      <td>far</td>\n    </tr>\n    <tr>\n      <th>5</th>\n      <td>0</td>\n      <td>australian-currawong-edited</td>\n      <td>AS</td>\n      <td>(-32, 4, -34)</td>\n      <td>2022-05-20 14:14:37</td>\n      <td>2022-05-20 14:14:50</td>\n      <td>2022-05-20 14:14:39</td>\n      <td>2022-05-20 14:14:39</td>\n      <td>far</td>\n    </tr>\n    <tr>\n      <th>6</th>\n      <td>0</td>\n      <td>australian-currawong-edited</td>\n      <td>AS</td>\n      <td>(-32, 4, -34)</td>\n      <td>2022-05-20 14:14:37</td>\n      <td>2022-05-20 14:14:50</td>\n      <td>2022-05-20 14:14:43</td>\n      <td>2022-05-20 14:14:43</td>\n      <td>far</td>\n    </tr>\n    <tr>\n      <th>7</th>\n      <td>0</td>\n      <td>elevator-edited</td>\n      <td>AN</td>\n      <td>(-18, 3, 18)</td>\n      <td>2022-05-20 14:15:09</td>\n      <td>2022-05-20 14:15:18</td>\n      <td>2022-05-20 14:15:11</td>\n      <td>2022-05-20 14:15:11</td>\n      <td>far</td>\n    </tr>\n    <tr>\n      <th>8</th>\n      <td>0</td>\n      <td>elevator-edited</td>\n      <td>AN</td>\n      <td>(-18, 3, 18)</td>\n      <td>2022-05-20 14:15:09</td>\n      <td>2022-05-20 14:15:18</td>\n      <td>2022-05-20 14:15:16</td>\n      <td>2022-05-20 14:15:16</td>\n      <td>far</td>\n    </tr>\n    <tr>\n      <th>9</th>\n      <td>0</td>\n      <td>creak</td>\n      <td>NUS</td>\n      <td>(-5, 3, 25)</td>\n      <td>2022-05-20 14:15:18</td>\n      <td>2022-05-20 14:15:18</td>\n      <td>2022-05-20 14:15:18</td>\n      <td>2022-05-20 14:15:18</td>\n      <td>far</td>\n    </tr>\n    <tr>\n      <th>10</th>\n      <td>0</td>\n      <td>creak</td>\n      <td>NUS</td>\n      <td>(-5, 3, 25)</td>\n      <td>2022-05-20 14:15:18</td>\n      <td>2022-05-20 14:15:24</td>\n      <td>2022-05-20 14:15:19</td>\n      <td>2022-05-20 14:15:21</td>\n      <td>far</td>\n    </tr>\n    <tr>\n      <th>11</th>\n      <td>0</td>\n      <td>creak</td>\n      <td>NUS</td>\n      <td>(-5, 3, 25)</td>\n      <td>2022-05-20 14:15:32</td>\n      <td>2022-05-20 14:15:38</td>\n      <td>2022-05-20 14:15:32</td>\n      <td>2022-05-20 14:15:33</td>\n      <td>far</td>\n    </tr>\n    <tr>\n      <th>12</th>\n      <td>0</td>\n      <td>cowbells</td>\n      <td>NNS</td>\n      <td>(18, 4, -55)</td>\n      <td>2022-05-20 14:17:09</td>\n      <td>2022-05-20 14:17:10</td>\n      <td>2022-05-20 14:17:10</td>\n      <td>2022-05-20 14:17:10</td>\n      <td>far</td>\n    </tr>\n  </tbody>\n</table>\n</div>"
     },
     "execution_count": 5,
     "metadata": {},
     "output_type": "execute_result"
    }
   ],
   "source": [
    "# Read SFX data\n",
    "\n",
    "# sfx dataframe headers:\n",
    "# sound_name;sound_type;sound_pos;start_time;end_time;look_start;look_end;look_range\n",
    "\n",
    "sfx_dfs = list()\n",
    "\n",
    "\n",
    "def get_next_sound_data(remaining_lines):\n",
    "    while remaining_lines and not remaining_lines[0].startswith(\"[SOUND_START];\"):\n",
    "        remaining_lines.pop(0)\n",
    "\n",
    "    data = [remaining_lines.pop(0)]\n",
    "\n",
    "    while remaining_lines and not remaining_lines[0].startswith(\"[SOUND_STOP];\"):\n",
    "        l = remaining_lines.pop(0)\n",
    "        if l and not l.startswith(\"[SOUND_START]\"):\n",
    "            data.append(l)\n",
    "\n",
    "    if remaining_lines:\n",
    "        data.append(remaining_lines.pop(0))\n",
    "    else:\n",
    "        # Last entry of file does not have STOP timing information, construct it ourselves\n",
    "\n",
    "        information_parts = data[0].split(';')\n",
    "        information_parts[0] = \"[SOUND_STOP]\"\n",
    "\n",
    "        # Set time to last watch time, this is allowed since application stops logging when last coin is collected\n",
    "        last_entry_time = data[-1].split(';')[0]\n",
    "        information_parts[1] = last_entry_time\n",
    "\n",
    "        data.append(';'.join(information_parts))\n",
    "\n",
    "    return data\n",
    "\n",
    "\n",
    "for person_id, filename in enumerate(os.listdir(\"./data/sfx-info\")):\n",
    "    df_entries = list()\n",
    "    with open(f\"./data/sfx-info/{filename}\") as f:\n",
    "        # Skip first two lines\n",
    "        lines = f.readlines()[2:]\n",
    "\n",
    "        # Remove empty lines\n",
    "        lines = [l for l in lines if l.strip()]\n",
    "        # lines = list(dict.fromkeys(lines))\n",
    "\n",
    "        while lines:\n",
    "            sound_data = get_next_sound_data(lines)\n",
    "            sound_data = list(dict.fromkeys(sound_data))  # Remove duplicate time entries\n",
    "\n",
    "            _, start_time, sname, stype, spos = sound_data[0].split(';')\n",
    "            _, end_time, _, _, _ = sound_data[-1].split(';')\n",
    "\n",
    "            data_points = sound_data[1:-1]\n",
    "\n",
    "            sound_info = [person_id, sname, stype, eval(spos), start_time, end_time]\n",
    "\n",
    "            look_start = None\n",
    "            for i, dp in enumerate(data_points):\n",
    "                time_entry, dp_range = dp.split(';')\n",
    "                if not look_start:\n",
    "                    look_start = time_entry\n",
    "\n",
    "                if i == 0:\n",
    "                    continue\n",
    "\n",
    "                prev_time, prev_range = data_points[i - 1].split(';')\n",
    "\n",
    "                time_entry_obj = datetime.datetime.strptime(time_entry, UTF_DATE)\n",
    "                prev_time_obj = datetime.datetime.strptime(prev_time, UTF_DATE)\n",
    "\n",
    "                if prev_range != dp_range:\n",
    "                    df_entries.append(\n",
    "                        [*sound_info, look_start, prev_time, prev_range]\n",
    "                    )\n",
    "                    look_start = time_entry\n",
    "                    continue\n",
    "\n",
    "                # Difference greater than 1 second ==> player looked away and then looked back\n",
    "                diff = prev_time_obj - time_entry_obj\n",
    "                if (time_entry_obj - prev_time_obj).seconds > 1:\n",
    "                    df_entries.append(\n",
    "                        [*sound_info, look_start, prev_time, prev_range]\n",
    "                    )\n",
    "                    look_start = time_entry\n",
    "                    continue\n",
    "\n",
    "            if len(data_points) > 0:\n",
    "                last_time, last_range = data_points[-1].split(';')\n",
    "                df_entries.append(\n",
    "                    [*sound_info, look_start, last_time, last_range]\n",
    "                )\n",
    "\n",
    "    sfx_dfs.append(\n",
    "        pd.DataFrame(df_entries,\n",
    "                     columns=[\"PersonID\", \"Name\", \"Type\", \"Pos\", \"PlayStart\", \"PlayEnd\", \"LookStart\", \"LookEnd\",\n",
    "                              \"RangeType\"])\n",
    "    )\n",
    "\n",
    "# Data cleanup\n",
    "for sdf in sfx_dfs:\n",
    "    date_cols = [\"PlayStart\", \"PlayEnd\", \"LookStart\", \"LookEnd\"]\n",
    "    for c in date_cols:\n",
    "        sdf[c] = sdf[c].apply(lambda x: datetime.datetime.strptime(x, UTF_DATE))\n",
    "    sdf[\"RangeType\"] = sdf[\"RangeType\"].apply(lambda x: x.strip())\n",
    "\n",
    "sfx_dfs[0].head(1000)"
   ],
   "metadata": {
    "collapsed": false,
    "pycharm": {
     "name": "#%%\n"
    }
   }
  },
  {
   "cell_type": "markdown",
   "source": [
    "## Participants Information"
   ],
   "metadata": {
    "collapsed": false
   }
  },
  {
   "cell_type": "code",
   "execution_count": 6,
   "outputs": [
    {
     "data": {
      "text/plain": "<Figure size 432x288 with 1 Axes>",
      "image/png": "[encoded data removed]"
     },
     "metadata": {},
     "output_type": "display_data"
    }
   ],
   "source": [
    "# TODO\n",
    "v_counts = participants_df['Sex'].value_counts()\n",
    "fig, ax = plt.subplots()\n",
    "plt.title('Gender')\n",
    "ax.pie(v_counts.to_list(), labels=['M', 'F'], autopct='%1.1f%%')\n",
    "ax.axis('equal')\n",
    "plt.show()\n",
    "plt.close()"
   ],
   "metadata": {
    "collapsed": false,
    "pycharm": {
     "name": "#%%\n"
    }
   }
  },
  {
   "cell_type": "markdown",
   "source": [
    "Most participants are male (73.3%, 11/15)."
   ],
   "metadata": {
    "collapsed": false
   }
  },
  {
   "cell_type": "code",
   "execution_count": 7,
   "outputs": [
    {
     "data": {
      "text/plain": "<Figure size 432x288 with 1 Axes>",
      "image/png": "[encoded data removed]"
     },
     "metadata": {},
     "output_type": "display_data"
    }
   ],
   "source": [
    "vr_experience = participants_df['VR Experience'].value_counts()\n",
    "vr_experience = [vr_experience.get(v, 0) for v in range(5)]\n",
    "\n",
    "plt.title('VR Experience')\n",
    "plt.pie(vr_experience, autopct=lambda p: '{:.1f}%'.format(round(p)) if p > 0 else '')\n",
    "plt.legend(labels=[\"None\", \"Tried Once\", \"Plays sometimes\", \"Plays regularly\", 'Plays weekly'])\n",
    "plt.axis('equal')\n",
    "plt.tight_layout()\n",
    "plt.show()"
   ],
   "metadata": {
    "collapsed": false,
    "pycharm": {
     "name": "#%%\n"
    }
   }
  },
  {
   "cell_type": "markdown",
   "source": [
    "Most participants had little to no experience with VR. One experienced VR user participated.\n",
    "\n",
    "The age of the participants varied between 16 and 77.\n",
    "Most participants are students.\n",
    "Most participants study/work in an IT related sector."
   ],
   "metadata": {
    "collapsed": false
   }
  },
  {
   "cell_type": "code",
   "execution_count": 8,
   "outputs": [],
   "source": [
    "def column_to_list(the_df, col_name):\n",
    "    col = the_df[col_name].value_counts()\n",
    "    return [col.get(v, 0) for v in range(1, 6)]\n",
    "\n",
    "\n",
    "hpos_scores = column_to_list(participants_df, 'HPosScore')\n",
    "vpos_scores = column_to_list(participants_df, 'VPosScore')\n",
    "sound_dist_est = column_to_list(participants_df, 'SoundDistEstimate')\n",
    "sound_nature = column_to_list(participants_df, 'SoundNatureScore')\n",
    "controls_score = column_to_list(participants_df, 'ControlsScore')\n",
    "motion_sickness_score = column_to_list(participants_df, 'MotionSickness')\n",
    "\n",
    "\n",
    "def add_labels(x, y, axis):\n",
    "    for i in range(len(x)):\n",
    "        if y[i]:\n",
    "            axis.text(i + 1, y[i] - .55, y[i], ha='center',\n",
    "                      bbox=dict(facecolor='white', alpha=.5))\n",
    "\n",
    "\n",
    "def create_bar(x, y, title, label_x, label_y, axis):\n",
    "    axis.bar(x, y)\n",
    "    add_labels(x, y, axis)\n",
    "    axis.set_title(title)\n",
    "    axis.set(xlabel=label_x, ylabel=label_y)\n",
    "    return plt\n",
    "\n"
   ],
   "metadata": {
    "collapsed": false,
    "pycharm": {
     "name": "#%%\n"
    }
   }
  },
  {
   "cell_type": "code",
   "execution_count": 9,
   "outputs": [
    {
     "data": {
      "text/plain": "<Figure size 1728x864 with 6 Axes>",
      "image/png": "[encoded data removed]"
     },
     "metadata": {
      "needs_background": "light"
     },
     "output_type": "display_data"
    },
    {
     "name": "stdout",
     "output_type": "stream",
     "text": [
      "7 participants found positioning horizontally easier (46.67%)\n",
      "2 participants found positioning horizontally harder (13.33%)\n",
      "6 participants found positioning horizontally similar to positioning vertically (40.0%)\n"
     ]
    }
   ],
   "source": [
    "_, axs = plt.subplots(2, 3, figsize=(24, 12))\n",
    "\n",
    "kwargs = {\n",
    "    'x': range(1, 6),\n",
    "    \"label_x\": \"Score\",\n",
    "    \"label_y\": \"Number of participants\"\n",
    "}\n",
    "\n",
    "create_bar(\n",
    "    y=hpos_scores,\n",
    "    title=\"Ease of positioning sound horizontally\",\n",
    "    axis=axs[0, 0],\n",
    "    **kwargs\n",
    ")\n",
    "\n",
    "create_bar(\n",
    "    y=vpos_scores,\n",
    "    title=\"Ease of positioning sound vertically\",\n",
    "    axis=axs[0, 1],\n",
    "    **kwargs\n",
    ")\n",
    "\n",
    "create_bar(\n",
    "    y=sound_dist_est,\n",
    "    title=\"Ease to estimate distance to source\",\n",
    "    axis=axs[0, 2],\n",
    "    **kwargs\n",
    ")\n",
    "\n",
    "create_bar(\n",
    "    y=sound_nature,\n",
    "    title=\"Quality of sound nature\",\n",
    "    axis=axs[1, 0],\n",
    "    **kwargs\n",
    ")\n",
    "\n",
    "create_bar(\n",
    "    y=controls_score,\n",
    "    title=\"Controls are easy\",\n",
    "    axis=axs[1, 1],\n",
    "    **kwargs\n",
    ")\n",
    "\n",
    "create_bar(\n",
    "    y=motion_sickness_score,\n",
    "    title=\"Motion sickness\",\n",
    "    axis=axs[1, 2],\n",
    "    **kwargs\n",
    ")\n",
    "plt.tight_layout()\n",
    "plt.show()\n",
    "\n",
    "# Percentage of people that found it easier to position horizontally\n",
    "h_easier = participants_df['HPosScore'] > participants_df[\"VPosScore\"]\n",
    "h_v_same = participants_df['HPosScore'] == participants_df[\"VPosScore\"]\n",
    "h_harder = participants_df['HPosScore'] < participants_df[\"VPosScore\"]\n",
    "\n",
    "h_easier = h_easier.value_counts()[True]\n",
    "h_harder = h_harder.value_counts()[True]\n",
    "h_v_same = h_v_same.value_counts()[True]\n",
    "\n",
    "total_participants = len(participants_df)\n",
    "\n",
    "print(h_easier, f\"participants found positioning horizontally easier ({percentage(h_easier, total_participants)})\")\n",
    "print(h_harder, f\"participants found positioning horizontally harder ({percentage(h_harder, total_participants)})\")\n",
    "print(h_v_same,\n",
    "      f\"participants found positioning horizontally similar to positioning vertically ({percentage(h_v_same, total_participants)})\")"
   ],
   "metadata": {
    "collapsed": false,
    "pycharm": {
     "name": "#%%\n"
    }
   }
  },
  {
   "cell_type": "markdown",
   "source": [
    "Most participants found it easy to position the sound horizontally. Only 1 out of 15 found it relatively hard to position the sounds to the left or to the right while performing the experiment.\n",
    "\n",
    "Vertical position was also relatively easy for most participants, but some mentioned after the experiment that they found it harder to position it vertically in comparison to the horizontal direction.\n",
    "\n",
    "Estimating the distance to the sound source was for most people not easy, as indicated by the 7 people that gave it a score of 3.\n",
    "Only 2 believed that they could easily pinpoint the distance to the sound origin.\n",
    "\n",
    "The nature of the sound is experienced by most participants as qualitative. They found the way in which the sounds volume changed fitting to their experience. One participant gave it a lower score. Another participant mentioned that he heard the cut-off of when a sound stopped playing as he moved out of the sounds range. The others did not mention any of this.\n",
    "\n",
    "The controls using the controllers was easy and intuitive for most participants.\n",
    "\n",
    "Most participants did not experience motion sickness during the experiment. Four people gave it a higher score than 1, with one person giving it a score of 4."
   ],
   "metadata": {
    "collapsed": false,
    "pycharm": {
     "name": "#%% md\n"
    }
   }
  },
  {
   "cell_type": "markdown",
   "source": [
    "#### Participant feedback\n",
    " - *\"Easy to control, fun, easy controls\"*\n",
    " - *\"Very fun to do!\"*\n",
    " - *\"I was completely involved. The main goal is to collect the coins, I heard the sounds, but was not bothered to look closer into it.\"*\n",
    " - *\"At the start, using the controllers was harder. The further the experiment went, the better I could handle it.\"*\n",
    " - *\"There is a certain distance at which the sound drops drastically. This was worse with some sounds.\"*\n",
    " - *\"The audio in the room was the hardest to localize.\"*"
   ],
   "metadata": {
    "collapsed": false,
    "pycharm": {
     "name": "#%% md\n"
    }
   }
  },
  {
   "cell_type": "markdown",
   "source": [
    "## SFX Data\n",
    "\n",
    "The following sections contain code blocks to extract metrics from the SFX datasets.\n",
    "First it is checked which sound format is looked at the most, second there is checked how much unique participants looked at a sound format on average and finally, the gaze duration is calculated for each sound type.\n",
    "\n",
    "The next table explains the abbreviations used further in this document.\n",
    "\n",
    "### SFX Type Explanation\n",
    "\n",
    "| Abreviation | Sound type                       |\n",
    "|-------------|----------------------------------|\n",
    "| NUS         | Non-ambisonic, Unity Spatialized |\n",
    "| NSS         | Non-ambisonic, Steam spatialized |\n",
    "| NNS         | Non-ambisonic, Non-Spatialized   |\n",
    "| AS          | Ambisonic, Steam Spatialized     |\n",
    "| AN          | Ambisonic, Non-spatialized       |\n"
   ],
   "metadata": {
    "collapsed": false,
    "pycharm": {
     "name": "#%% md\n"
    }
   }
  },
  {
   "cell_type": "code",
   "execution_count": 10,
   "outputs": [],
   "source": [
    "# Combine all data\n",
    "all_sfx_data = pd.concat(sfx_dfs)\n",
    "\n",
    "def type_data(sfx_df):\n",
    "    return sfx_df[[\"Name\", \"Type\"]].value_counts()\n",
    "\n",
    "def type_percentage(sfx_df):\n",
    "    return sfx_df[[\"Name\", \"Type\"]].value_counts(normalize=True).groupby('Type').sum()"
   ],
   "metadata": {
    "collapsed": false,
    "pycharm": {
     "name": "#%%\n"
    }
   }
  },
  {
   "cell_type": "code",
   "execution_count": 11,
   "outputs": [
    {
     "data": {
      "text/plain": "Name                         Type\ncreak                        NUS     38\nambisonic-chicken-edited     AS      32\ndoor_crack                   NNS     25\nambisonic-duck-edited 1      AN      21\naustralian-currawong-edited  AS      18\nelevator-edited              AN      16\ncow                          NUS     11\ncowbells                     NNS     11\nbird                         NSS      9\nbee                          NSS      2\ndtype: int64"
     },
     "execution_count": 11,
     "metadata": {},
     "output_type": "execute_result"
    }
   ],
   "source": [
    "type_data(all_sfx_data)"
   ],
   "metadata": {
    "collapsed": false,
    "pycharm": {
     "name": "#%%\n"
    }
   }
  },
  {
   "cell_type": "markdown",
   "source": [
    "The '*creak*' sound is looked at the most in general, followed by '*ambisonic-chicken-edited*'\n",
    "The '*bee*' sound is only looked at 2 times over 15 participants. It probably is looked at by accident in these cases."
   ],
   "metadata": {
    "collapsed": false,
    "pycharm": {
     "name": "#%% md\n"
    }
   }
  },
  {
   "cell_type": "code",
   "execution_count": 12,
   "outputs": [
    {
     "data": {
      "text/plain": "Type\nAN     0.202186\nAS     0.273224\nNNS    0.196721\nNSS    0.060109\nNUS    0.267760\ndtype: float64"
     },
     "execution_count": 12,
     "metadata": {},
     "output_type": "execute_result"
    }
   ],
   "source": [
    "type_percentage(all_sfx_data)"
   ],
   "metadata": {
    "collapsed": false,
    "pycharm": {
     "name": "#%%\n"
    }
   }
  },
  {
   "cell_type": "markdown",
   "source": [
    "By looking at percentages, grouped by the sound type, it is noticed that the ambisonic, spatialized sounds have the best performance.\n",
    "Most people looked at the ambisonic sounds that were spatialized. 27.32% of the times there was looked at a sound, it was at an ambisonic spatialized sound.\n",
    "\n",
    "The Unity spatialization works quite well, even for non-ambisonic sound formats. Non-ambisonic sounds with Unity spatialization are looked at 26.78% of the time.\n",
    "\n",
    "If we compare ambisonic with non-ambisonic, then we see that in 47.54% of the cases, people looked in the direction of the sound.\n",
    "Note that there is one class of non-ambisonic sounds more, which might be the reason for the higher percentage here.\n",
    "\n",
    "In the following subsection, we look at the difference in look distance."
   ],
   "metadata": {
    "collapsed": false,
    "pycharm": {
     "name": "#%% md\n"
    }
   }
  },
  {
   "cell_type": "code",
   "execution_count": 13,
   "outputs": [],
   "source": [
    "# Same but based on distance now\n",
    "data_look_close = all_sfx_data[all_sfx_data.RangeType.eq(\"close\")]\n",
    "data_look_medium = all_sfx_data[all_sfx_data.RangeType.eq(\"medium\")]\n",
    "data_look_far = all_sfx_data[all_sfx_data.RangeType.eq('far')]"
   ],
   "metadata": {
    "collapsed": false,
    "pycharm": {
     "name": "#%%\n"
    }
   }
  },
  {
   "cell_type": "markdown",
   "source": [
    "#### Far distance from source"
   ],
   "metadata": {
    "collapsed": false,
    "pycharm": {
     "name": "#%% md\n"
    }
   }
  },
  {
   "cell_type": "code",
   "execution_count": 14,
   "outputs": [
    {
     "data": {
      "text/plain": "Name                         Type\ncreak                        NUS     31\nambisonic-chicken-edited     AS      23\ndoor_crack                   NNS     23\nelevator-edited              AN      15\nambisonic-duck-edited 1      AN      14\naustralian-currawong-edited  AS      14\ncow                          NUS     11\ncowbells                     NNS     11\nbird                         NSS      9\nbee                          NSS      2\ndtype: int64"
     },
     "execution_count": 14,
     "metadata": {},
     "output_type": "execute_result"
    }
   ],
   "source": [
    "type_data(data_look_far)"
   ],
   "metadata": {
    "collapsed": false,
    "pycharm": {
     "name": "#%%\n"
    }
   }
  },
  {
   "cell_type": "code",
   "execution_count": 15,
   "outputs": [
    {
     "data": {
      "text/plain": "Type\nAN     0.189542\nAS     0.241830\nNNS    0.222222\nNSS    0.071895\nNUS    0.274510\ndtype: float64"
     },
     "execution_count": 15,
     "metadata": {},
     "output_type": "execute_result"
    }
   ],
   "source": [
    "type_percentage(data_look_far)"
   ],
   "metadata": {
    "collapsed": false,
    "pycharm": {
     "name": "#%%\n"
    }
   }
  },
  {
   "cell_type": "markdown",
   "source": [
    "Since most data points are related to looking at a far distance from the source, no significant difference with the conclusions from previous section can be deduced."
   ],
   "metadata": {
    "collapsed": false,
    "pycharm": {
     "name": "#%% md\n"
    }
   }
  },
  {
   "cell_type": "markdown",
   "source": [
    "#### Medium distance from source"
   ],
   "metadata": {
    "collapsed": false,
    "pycharm": {
     "name": "#%% md\n"
    }
   }
  },
  {
   "cell_type": "code",
   "execution_count": 16,
   "outputs": [
    {
     "data": {
      "text/plain": "Name                         Type\nambisonic-duck-edited 1      AN      7\nambisonic-chicken-edited     AS      6\ncreak                        NUS     6\naustralian-currawong-edited  AS      3\ndoor_crack                   NNS     1\nelevator-edited              AN      1\ndtype: int64"
     },
     "execution_count": 16,
     "metadata": {},
     "output_type": "execute_result"
    }
   ],
   "source": [
    "type_data(data_look_medium)"
   ],
   "metadata": {
    "collapsed": false,
    "pycharm": {
     "name": "#%%\n"
    }
   }
  },
  {
   "cell_type": "code",
   "execution_count": 17,
   "outputs": [
    {
     "data": {
      "text/plain": "Type\nAN     0.333333\nAS     0.375000\nNNS    0.041667\nNUS    0.250000\ndtype: float64"
     },
     "execution_count": 17,
     "metadata": {},
     "output_type": "execute_result"
    }
   ],
   "source": [
    "type_percentage(data_look_medium)"
   ],
   "metadata": {
    "collapsed": false,
    "pycharm": {
     "name": "#%%\n"
    }
   }
  },
  {
   "cell_type": "markdown",
   "source": [
    "In this type of data, a difference is noticed. In this case, it seems the ambisonic sound types outperform the non-ambisonic sound types.\n",
    "In 70.83 % of the cases where a participant looked at a medium distance from the source, an ambisonic sound type is used. This is a significant difference\n",
    "with the other sound classes."
   ],
   "metadata": {
    "collapsed": false,
    "pycharm": {
     "name": "#%% md\n"
    }
   }
  },
  {
   "cell_type": "markdown",
   "source": [
    "#### Close distance from source"
   ],
   "metadata": {
    "collapsed": false,
    "pycharm": {
     "name": "#%% md\n"
    }
   }
  },
  {
   "cell_type": "code",
   "execution_count": 18,
   "outputs": [
    {
     "data": {
      "text/plain": "Name                         Type\nambisonic-chicken-edited     AS      3\naustralian-currawong-edited  AS      1\ncreak                        NUS     1\ndoor_crack                   NNS     1\ndtype: int64"
     },
     "execution_count": 18,
     "metadata": {},
     "output_type": "execute_result"
    }
   ],
   "source": [
    "type_data(data_look_close)"
   ],
   "metadata": {
    "collapsed": false,
    "pycharm": {
     "name": "#%%\n"
    }
   }
  },
  {
   "cell_type": "code",
   "execution_count": 19,
   "outputs": [
    {
     "data": {
      "text/plain": "Type\nAS     0.666667\nNNS    0.166667\nNUS    0.166667\ndtype: float64"
     },
     "execution_count": 19,
     "metadata": {},
     "output_type": "execute_result"
    }
   ],
   "source": [
    "type_percentage(data_look_close)"
   ],
   "metadata": {
    "collapsed": false,
    "pycharm": {
     "name": "#%%\n"
    }
   }
  },
  {
   "cell_type": "markdown",
   "source": [
    "The trend discovered with the medium sound distance continues in this data.\n",
    "Note that there are not many data points in this class.\n",
    "On the other hand, it is striking that again, the ambisonic sound type has the upper hand."
   ],
   "metadata": {
    "collapsed": false,
    "pycharm": {
     "name": "#%% md\n"
    }
   }
  },
  {
   "cell_type": "code",
   "execution_count": 20,
   "outputs": [],
   "source": [
    "def by_sound_analysis(cdf):\n",
    "    by_sound = cdf[['PersonID', 'Name', 'Type']]\n",
    "    by_sound = by_sound.drop_duplicates()\n",
    "    by_sound = by_sound.groupby(['Name', 'Type']).count().sort_values('PersonID', ascending=False).rename(columns={'PersonID': 'PersonIDs'})\n",
    "    by_sound['%'] = by_sound['PersonIDs'].apply(lambda x: x / float(total_participants) * 100)\n",
    "    return by_sound"
   ],
   "metadata": {
    "collapsed": false,
    "pycharm": {
     "name": "#%%\n"
    }
   }
  },
  {
   "cell_type": "code",
   "execution_count": 21,
   "outputs": [
    {
     "data": {
      "text/plain": "                                  PersonIDs           %\nName                        Type                       \ncreak                       NUS          15  100.000000\ndoor_crack                  NNS          13   86.666667\nambisonic-chicken-edited    AS           11   73.333333\ncowbells                    NNS           9   60.000000\naustralian-currawong-edited AS            8   53.333333\nelevator-edited             AN            8   53.333333\nambisonic-duck-edited 1     AN            7   46.666667\nbird                        NSS           6   40.000000\ncow                         NUS           6   40.000000\nbee                         NSS           1    6.666667",
      "text/html": "<div>\n<style scoped>\n    .dataframe tbody tr th:only-of-type {\n        vertical-align: middle;\n    }\n\n    .dataframe tbody tr th {\n        vertical-align: top;\n    }\n\n    .dataframe thead th {\n        text-align: right;\n    }\n</style>\n<table border=\"1\" class=\"dataframe\">\n  <thead>\n    <tr style=\"text-align: right;\">\n      <th></th>\n      <th></th>\n      <th>PersonIDs</th>\n      <th>%</th>\n    </tr>\n    <tr>\n      <th>Name</th>\n      <th>Type</th>\n      <th></th>\n      <th></th>\n    </tr>\n  </thead>\n  <tbody>\n    <tr>\n      <th>creak</th>\n      <th>NUS</th>\n      <td>15</td>\n      <td>100.000000</td>\n    </tr>\n    <tr>\n      <th>door_crack</th>\n      <th>NNS</th>\n      <td>13</td>\n      <td>86.666667</td>\n    </tr>\n    <tr>\n      <th>ambisonic-chicken-edited</th>\n      <th>AS</th>\n      <td>11</td>\n      <td>73.333333</td>\n    </tr>\n    <tr>\n      <th>cowbells</th>\n      <th>NNS</th>\n      <td>9</td>\n      <td>60.000000</td>\n    </tr>\n    <tr>\n      <th>australian-currawong-edited</th>\n      <th>AS</th>\n      <td>8</td>\n      <td>53.333333</td>\n    </tr>\n    <tr>\n      <th>elevator-edited</th>\n      <th>AN</th>\n      <td>8</td>\n      <td>53.333333</td>\n    </tr>\n    <tr>\n      <th>ambisonic-duck-edited 1</th>\n      <th>AN</th>\n      <td>7</td>\n      <td>46.666667</td>\n    </tr>\n    <tr>\n      <th>bird</th>\n      <th>NSS</th>\n      <td>6</td>\n      <td>40.000000</td>\n    </tr>\n    <tr>\n      <th>cow</th>\n      <th>NUS</th>\n      <td>6</td>\n      <td>40.000000</td>\n    </tr>\n    <tr>\n      <th>bee</th>\n      <th>NSS</th>\n      <td>1</td>\n      <td>6.666667</td>\n    </tr>\n  </tbody>\n</table>\n</div>"
     },
     "execution_count": 21,
     "metadata": {},
     "output_type": "execute_result"
    }
   ],
   "source": [
    "by_sound_analysis(all_sfx_data).head(10)"
   ],
   "metadata": {
    "collapsed": false,
    "pycharm": {
     "name": "#%%\n"
    }
   }
  },
  {
   "cell_type": "code",
   "execution_count": 22,
   "outputs": [
    {
     "data": {
      "text/plain": "      PersonIDs          %\nType                      \nAN          7.5  50.000000\nAS          9.5  63.333333\nNNS        11.0  73.333333\nNSS         3.5  23.333333\nNUS        10.5  70.000000",
      "text/html": "<div>\n<style scoped>\n    .dataframe tbody tr th:only-of-type {\n        vertical-align: middle;\n    }\n\n    .dataframe tbody tr th {\n        vertical-align: top;\n    }\n\n    .dataframe thead th {\n        text-align: right;\n    }\n</style>\n<table border=\"1\" class=\"dataframe\">\n  <thead>\n    <tr style=\"text-align: right;\">\n      <th></th>\n      <th>PersonIDs</th>\n      <th>%</th>\n    </tr>\n    <tr>\n      <th>Type</th>\n      <th></th>\n      <th></th>\n    </tr>\n  </thead>\n  <tbody>\n    <tr>\n      <th>AN</th>\n      <td>7.5</td>\n      <td>50.000000</td>\n    </tr>\n    <tr>\n      <th>AS</th>\n      <td>9.5</td>\n      <td>63.333333</td>\n    </tr>\n    <tr>\n      <th>NNS</th>\n      <td>11.0</td>\n      <td>73.333333</td>\n    </tr>\n    <tr>\n      <th>NSS</th>\n      <td>3.5</td>\n      <td>23.333333</td>\n    </tr>\n    <tr>\n      <th>NUS</th>\n      <td>10.5</td>\n      <td>70.000000</td>\n    </tr>\n  </tbody>\n</table>\n</div>"
     },
     "execution_count": 22,
     "metadata": {},
     "output_type": "execute_result"
    }
   ],
   "source": [
    "by_sound_analysis(all_sfx_data).groupby(\"Type\").mean() # TODO, text"
   ],
   "metadata": {
    "collapsed": false,
    "pycharm": {
     "name": "#%%\n"
    }
   }
  },
  {
   "cell_type": "markdown",
   "source": [
    "Each participant looked at the creak sound. The bee sound was the hardest to localize: only one participant managed to look at it, probably by accident.\n",
    "No siginificant difference between the ambisonic and non-ambisonic sounds can be determined.\n",
    "\n",
    "Whether a participant looks at a sound is completely determined by the specific sound.\n",
    "There is no correlation with the sound type.\n",
    "Again, this can be subdivided into the different range types."
   ],
   "metadata": {
    "collapsed": false,
    "pycharm": {
     "name": "#%% md\n"
    }
   }
  },
  {
   "cell_type": "code",
   "execution_count": 23,
   "outputs": [
    {
     "name": "stdout",
     "output_type": "stream",
     "text": [
      "FAR RANGE\n"
     ]
    },
    {
     "data": {
      "text/plain": "                                  PersonIDs           %\nName                        Type                       \ncreak                       NUS          15  100.000000\ndoor_crack                  NNS          13   86.666667\nambisonic-chicken-edited    AS           10   66.666667\ncowbells                    NNS           9   60.000000\naustralian-currawong-edited AS            8   53.333333\nelevator-edited             AN            8   53.333333\nambisonic-duck-edited 1     AN            7   46.666667\nbird                        NSS           6   40.000000\ncow                         NUS           6   40.000000\nbee                         NSS           1    6.666667",
      "text/html": "<div>\n<style scoped>\n    .dataframe tbody tr th:only-of-type {\n        vertical-align: middle;\n    }\n\n    .dataframe tbody tr th {\n        vertical-align: top;\n    }\n\n    .dataframe thead th {\n        text-align: right;\n    }\n</style>\n<table border=\"1\" class=\"dataframe\">\n  <thead>\n    <tr style=\"text-align: right;\">\n      <th></th>\n      <th></th>\n      <th>PersonIDs</th>\n      <th>%</th>\n    </tr>\n    <tr>\n      <th>Name</th>\n      <th>Type</th>\n      <th></th>\n      <th></th>\n    </tr>\n  </thead>\n  <tbody>\n    <tr>\n      <th>creak</th>\n      <th>NUS</th>\n      <td>15</td>\n      <td>100.000000</td>\n    </tr>\n    <tr>\n      <th>door_crack</th>\n      <th>NNS</th>\n      <td>13</td>\n      <td>86.666667</td>\n    </tr>\n    <tr>\n      <th>ambisonic-chicken-edited</th>\n      <th>AS</th>\n      <td>10</td>\n      <td>66.666667</td>\n    </tr>\n    <tr>\n      <th>cowbells</th>\n      <th>NNS</th>\n      <td>9</td>\n      <td>60.000000</td>\n    </tr>\n    <tr>\n      <th>australian-currawong-edited</th>\n      <th>AS</th>\n      <td>8</td>\n      <td>53.333333</td>\n    </tr>\n    <tr>\n      <th>elevator-edited</th>\n      <th>AN</th>\n      <td>8</td>\n      <td>53.333333</td>\n    </tr>\n    <tr>\n      <th>ambisonic-duck-edited 1</th>\n      <th>AN</th>\n      <td>7</td>\n      <td>46.666667</td>\n    </tr>\n    <tr>\n      <th>bird</th>\n      <th>NSS</th>\n      <td>6</td>\n      <td>40.000000</td>\n    </tr>\n    <tr>\n      <th>cow</th>\n      <th>NUS</th>\n      <td>6</td>\n      <td>40.000000</td>\n    </tr>\n    <tr>\n      <th>bee</th>\n      <th>NSS</th>\n      <td>1</td>\n      <td>6.666667</td>\n    </tr>\n  </tbody>\n</table>\n</div>"
     },
     "execution_count": 23,
     "metadata": {},
     "output_type": "execute_result"
    }
   ],
   "source": [
    "by_sound_far = all_sfx_data[all_sfx_data.RangeType == \"far\"]\n",
    "print(\"FAR RANGE\")\n",
    "by_sound_analysis(by_sound_far)"
   ],
   "metadata": {
    "collapsed": false,
    "pycharm": {
     "name": "#%%\n"
    }
   }
  },
  {
   "cell_type": "code",
   "execution_count": 24,
   "outputs": [
    {
     "data": {
      "text/plain": "      PersonIDs          %\nType                      \nAN          7.5  50.000000\nAS          9.0  60.000000\nNNS        11.0  73.333333\nNSS         3.5  23.333333\nNUS        10.5  70.000000",
      "text/html": "<div>\n<style scoped>\n    .dataframe tbody tr th:only-of-type {\n        vertical-align: middle;\n    }\n\n    .dataframe tbody tr th {\n        vertical-align: top;\n    }\n\n    .dataframe thead th {\n        text-align: right;\n    }\n</style>\n<table border=\"1\" class=\"dataframe\">\n  <thead>\n    <tr style=\"text-align: right;\">\n      <th></th>\n      <th>PersonIDs</th>\n      <th>%</th>\n    </tr>\n    <tr>\n      <th>Type</th>\n      <th></th>\n      <th></th>\n    </tr>\n  </thead>\n  <tbody>\n    <tr>\n      <th>AN</th>\n      <td>7.5</td>\n      <td>50.000000</td>\n    </tr>\n    <tr>\n      <th>AS</th>\n      <td>9.0</td>\n      <td>60.000000</td>\n    </tr>\n    <tr>\n      <th>NNS</th>\n      <td>11.0</td>\n      <td>73.333333</td>\n    </tr>\n    <tr>\n      <th>NSS</th>\n      <td>3.5</td>\n      <td>23.333333</td>\n    </tr>\n    <tr>\n      <th>NUS</th>\n      <td>10.5</td>\n      <td>70.000000</td>\n    </tr>\n  </tbody>\n</table>\n</div>"
     },
     "execution_count": 24,
     "metadata": {},
     "output_type": "execute_result"
    }
   ],
   "source": [
    "by_sound_analysis(by_sound_far).groupby(\"Type\").mean() # TODO, text"
   ],
   "metadata": {
    "collapsed": false,
    "pycharm": {
     "name": "#%%\n"
    }
   }
  },
  {
   "cell_type": "code",
   "execution_count": 25,
   "outputs": [
    {
     "name": "stdout",
     "output_type": "stream",
     "text": [
      "MEDIUM RANGE\n"
     ]
    },
    {
     "data": {
      "text/plain": "                                  PersonIDs          %\nName                        Type                      \nambisonic-duck-edited 1     AN            6  40.000000\ncreak                       NUS           5  33.333333\nambisonic-chicken-edited    AS            3  20.000000\naustralian-currawong-edited AS            2  13.333333\ndoor_crack                  NNS           1   6.666667\nelevator-edited             AN            1   6.666667",
      "text/html": "<div>\n<style scoped>\n    .dataframe tbody tr th:only-of-type {\n        vertical-align: middle;\n    }\n\n    .dataframe tbody tr th {\n        vertical-align: top;\n    }\n\n    .dataframe thead th {\n        text-align: right;\n    }\n</style>\n<table border=\"1\" class=\"dataframe\">\n  <thead>\n    <tr style=\"text-align: right;\">\n      <th></th>\n      <th></th>\n      <th>PersonIDs</th>\n      <th>%</th>\n    </tr>\n    <tr>\n      <th>Name</th>\n      <th>Type</th>\n      <th></th>\n      <th></th>\n    </tr>\n  </thead>\n  <tbody>\n    <tr>\n      <th>ambisonic-duck-edited 1</th>\n      <th>AN</th>\n      <td>6</td>\n      <td>40.000000</td>\n    </tr>\n    <tr>\n      <th>creak</th>\n      <th>NUS</th>\n      <td>5</td>\n      <td>33.333333</td>\n    </tr>\n    <tr>\n      <th>ambisonic-chicken-edited</th>\n      <th>AS</th>\n      <td>3</td>\n      <td>20.000000</td>\n    </tr>\n    <tr>\n      <th>australian-currawong-edited</th>\n      <th>AS</th>\n      <td>2</td>\n      <td>13.333333</td>\n    </tr>\n    <tr>\n      <th>door_crack</th>\n      <th>NNS</th>\n      <td>1</td>\n      <td>6.666667</td>\n    </tr>\n    <tr>\n      <th>elevator-edited</th>\n      <th>AN</th>\n      <td>1</td>\n      <td>6.666667</td>\n    </tr>\n  </tbody>\n</table>\n</div>"
     },
     "execution_count": 25,
     "metadata": {},
     "output_type": "execute_result"
    }
   ],
   "source": [
    "by_sound_medium = all_sfx_data[all_sfx_data.RangeType == \"medium\"]\n",
    "print(\"MEDIUM RANGE\")\n",
    "by_sound_analysis(by_sound_medium)"
   ],
   "metadata": {
    "collapsed": false,
    "pycharm": {
     "name": "#%%\n"
    }
   }
  },
  {
   "cell_type": "code",
   "execution_count": 26,
   "outputs": [
    {
     "data": {
      "text/plain": "      PersonIDs          %\nType                      \nAN          3.5  23.333333\nAS          2.5  16.666667\nNNS         1.0   6.666667\nNUS         5.0  33.333333",
      "text/html": "<div>\n<style scoped>\n    .dataframe tbody tr th:only-of-type {\n        vertical-align: middle;\n    }\n\n    .dataframe tbody tr th {\n        vertical-align: top;\n    }\n\n    .dataframe thead th {\n        text-align: right;\n    }\n</style>\n<table border=\"1\" class=\"dataframe\">\n  <thead>\n    <tr style=\"text-align: right;\">\n      <th></th>\n      <th>PersonIDs</th>\n      <th>%</th>\n    </tr>\n    <tr>\n      <th>Type</th>\n      <th></th>\n      <th></th>\n    </tr>\n  </thead>\n  <tbody>\n    <tr>\n      <th>AN</th>\n      <td>3.5</td>\n      <td>23.333333</td>\n    </tr>\n    <tr>\n      <th>AS</th>\n      <td>2.5</td>\n      <td>16.666667</td>\n    </tr>\n    <tr>\n      <th>NNS</th>\n      <td>1.0</td>\n      <td>6.666667</td>\n    </tr>\n    <tr>\n      <th>NUS</th>\n      <td>5.0</td>\n      <td>33.333333</td>\n    </tr>\n  </tbody>\n</table>\n</div>"
     },
     "execution_count": 26,
     "metadata": {},
     "output_type": "execute_result"
    }
   ],
   "source": [
    "by_sound_analysis(by_sound_medium).groupby(\"Type\").mean() # TODO, text"
   ],
   "metadata": {
    "collapsed": false,
    "pycharm": {
     "name": "#%%\n"
    }
   }
  },
  {
   "cell_type": "code",
   "execution_count": 27,
   "outputs": [
    {
     "name": "stdout",
     "output_type": "stream",
     "text": [
      "CLOSE RANGE\n"
     ]
    },
    {
     "data": {
      "text/plain": "                                  PersonIDs          %\nName                        Type                      \nambisonic-chicken-edited    AS            2  13.333333\naustralian-currawong-edited AS            1   6.666667\ncreak                       NUS           1   6.666667\ndoor_crack                  NNS           1   6.666667",
      "text/html": "<div>\n<style scoped>\n    .dataframe tbody tr th:only-of-type {\n        vertical-align: middle;\n    }\n\n    .dataframe tbody tr th {\n        vertical-align: top;\n    }\n\n    .dataframe thead th {\n        text-align: right;\n    }\n</style>\n<table border=\"1\" class=\"dataframe\">\n  <thead>\n    <tr style=\"text-align: right;\">\n      <th></th>\n      <th></th>\n      <th>PersonIDs</th>\n      <th>%</th>\n    </tr>\n    <tr>\n      <th>Name</th>\n      <th>Type</th>\n      <th></th>\n      <th></th>\n    </tr>\n  </thead>\n  <tbody>\n    <tr>\n      <th>ambisonic-chicken-edited</th>\n      <th>AS</th>\n      <td>2</td>\n      <td>13.333333</td>\n    </tr>\n    <tr>\n      <th>australian-currawong-edited</th>\n      <th>AS</th>\n      <td>1</td>\n      <td>6.666667</td>\n    </tr>\n    <tr>\n      <th>creak</th>\n      <th>NUS</th>\n      <td>1</td>\n      <td>6.666667</td>\n    </tr>\n    <tr>\n      <th>door_crack</th>\n      <th>NNS</th>\n      <td>1</td>\n      <td>6.666667</td>\n    </tr>\n  </tbody>\n</table>\n</div>"
     },
     "execution_count": 27,
     "metadata": {},
     "output_type": "execute_result"
    }
   ],
   "source": [
    "by_sound_close = all_sfx_data[all_sfx_data.RangeType == \"close\"]\n",
    "print(\"CLOSE RANGE\")\n",
    "by_sound_analysis(by_sound_close)"
   ],
   "metadata": {
    "collapsed": false,
    "pycharm": {
     "name": "#%%\n"
    }
   }
  },
  {
   "cell_type": "code",
   "execution_count": 28,
   "outputs": [
    {
     "data": {
      "text/plain": "      PersonIDs          %\nType                      \nAS          1.5  10.000000\nNNS         1.0   6.666667\nNUS         1.0   6.666667",
      "text/html": "<div>\n<style scoped>\n    .dataframe tbody tr th:only-of-type {\n        vertical-align: middle;\n    }\n\n    .dataframe tbody tr th {\n        vertical-align: top;\n    }\n\n    .dataframe thead th {\n        text-align: right;\n    }\n</style>\n<table border=\"1\" class=\"dataframe\">\n  <thead>\n    <tr style=\"text-align: right;\">\n      <th></th>\n      <th>PersonIDs</th>\n      <th>%</th>\n    </tr>\n    <tr>\n      <th>Type</th>\n      <th></th>\n      <th></th>\n    </tr>\n  </thead>\n  <tbody>\n    <tr>\n      <th>AS</th>\n      <td>1.5</td>\n      <td>10.000000</td>\n    </tr>\n    <tr>\n      <th>NNS</th>\n      <td>1.0</td>\n      <td>6.666667</td>\n    </tr>\n    <tr>\n      <th>NUS</th>\n      <td>1.0</td>\n      <td>6.666667</td>\n    </tr>\n  </tbody>\n</table>\n</div>"
     },
     "execution_count": 28,
     "metadata": {},
     "output_type": "execute_result"
    }
   ],
   "source": [
    "by_sound_analysis(by_sound_close).groupby(\"Type\").mean() # TODO, text"
   ],
   "metadata": {
    "collapsed": false,
    "pycharm": {
     "name": "#%%\n"
    }
   }
  },
  {
   "cell_type": "markdown",
   "source": [
    "Most people looked relatively far away from the sound source.\n",
    "If participants looked closer to a sound, it is noted that the type of the sound is more likely to be an ambisonic sound format.\n",
    "The data in previous cells shows this hypothesis."
   ],
   "metadata": {
    "collapsed": false,
    "pycharm": {
     "name": "#%% md\n"
    }
   }
  },
  {
   "cell_type": "markdown",
   "source": [
    "### Average duration looked at sounds"
   ],
   "metadata": {
    "collapsed": false,
    "pycharm": {
     "name": "#%% md\n"
    }
   }
  },
  {
   "cell_type": "code",
   "execution_count": 29,
   "outputs": [
    {
     "data": {
      "text/plain": "   Type                         Name  Duration (s)\n0    AS     ambisonic-chicken-edited           0.1\n1   NSS                         bird           1.0\n2   NUS                        creak           1.0\n3   NNS                   door_crack           0.1\n4   NNS                   door_crack           2.0\n..  ...                          ...           ...\n4    AN      ambisonic-duck-edited 1           1.0\n5    AN              elevator-edited           1.0\n6   NUS                        creak           1.0\n7   NUS                        creak           0.1\n8    AS  australian-currawong-edited           0.1\n\n[183 rows x 3 columns]",
      "text/html": "<div>\n<style scoped>\n    .dataframe tbody tr th:only-of-type {\n        vertical-align: middle;\n    }\n\n    .dataframe tbody tr th {\n        vertical-align: top;\n    }\n\n    .dataframe thead th {\n        text-align: right;\n    }\n</style>\n<table border=\"1\" class=\"dataframe\">\n  <thead>\n    <tr style=\"text-align: right;\">\n      <th></th>\n      <th>Type</th>\n      <th>Name</th>\n      <th>Duration (s)</th>\n    </tr>\n  </thead>\n  <tbody>\n    <tr>\n      <th>0</th>\n      <td>AS</td>\n      <td>ambisonic-chicken-edited</td>\n      <td>0.1</td>\n    </tr>\n    <tr>\n      <th>1</th>\n      <td>NSS</td>\n      <td>bird</td>\n      <td>1.0</td>\n    </tr>\n    <tr>\n      <th>2</th>\n      <td>NUS</td>\n      <td>creak</td>\n      <td>1.0</td>\n    </tr>\n    <tr>\n      <th>3</th>\n      <td>NNS</td>\n      <td>door_crack</td>\n      <td>0.1</td>\n    </tr>\n    <tr>\n      <th>4</th>\n      <td>NNS</td>\n      <td>door_crack</td>\n      <td>2.0</td>\n    </tr>\n    <tr>\n      <th>...</th>\n      <td>...</td>\n      <td>...</td>\n      <td>...</td>\n    </tr>\n    <tr>\n      <th>4</th>\n      <td>AN</td>\n      <td>ambisonic-duck-edited 1</td>\n      <td>1.0</td>\n    </tr>\n    <tr>\n      <th>5</th>\n      <td>AN</td>\n      <td>elevator-edited</td>\n      <td>1.0</td>\n    </tr>\n    <tr>\n      <th>6</th>\n      <td>NUS</td>\n      <td>creak</td>\n      <td>1.0</td>\n    </tr>\n    <tr>\n      <th>7</th>\n      <td>NUS</td>\n      <td>creak</td>\n      <td>0.1</td>\n    </tr>\n    <tr>\n      <th>8</th>\n      <td>AS</td>\n      <td>australian-currawong-edited</td>\n      <td>0.1</td>\n    </tr>\n  </tbody>\n</table>\n<p>183 rows × 3 columns</p>\n</div>"
     },
     "execution_count": 29,
     "metadata": {},
     "output_type": "execute_result"
    }
   ],
   "source": [
    "pd.options.mode.chained_assignment = None  # default='warn'\n",
    "duration_data = all_sfx_data[['LookStart', 'LookEnd', 'Type', 'Name']]\n",
    "duration_data['Duration (s)'] = duration_data['LookEnd'] - duration_data['LookStart']\n",
    "duration_data['Duration (s)'] = duration_data['Duration (s)'].dt.total_seconds().astype(float)\n",
    "duration_data['Duration (s)'] = duration_data['Duration (s)'].apply(func=lambda x: .1 if x == 0 else x)\n",
    "duration_data.drop(['LookStart', 'LookEnd'], inplace=True, axis=1)\n",
    "duration_data"
   ],
   "metadata": {
    "collapsed": false,
    "pycharm": {
     "name": "#%%\n"
    }
   }
  },
  {
   "cell_type": "code",
   "execution_count": 30,
   "outputs": [
    {
     "data": {
      "text/plain": "                                  Duration (s)\nName                        Type              \nambisonic-chicken-edited    AS            41.2\ncreak                       NUS           27.2\ndoor_crack                  NNS           26.0\nambisonic-duck-edited 1     AN            24.9\naustralian-currawong-edited AS            13.0\nbird                        NSS            9.4\ncow                         NUS            7.5\nelevator-edited             AN             5.2\ncowbells                    NNS            4.9\nbee                         NSS            3.0",
      "text/html": "<div>\n<style scoped>\n    .dataframe tbody tr th:only-of-type {\n        vertical-align: middle;\n    }\n\n    .dataframe tbody tr th {\n        vertical-align: top;\n    }\n\n    .dataframe thead th {\n        text-align: right;\n    }\n</style>\n<table border=\"1\" class=\"dataframe\">\n  <thead>\n    <tr style=\"text-align: right;\">\n      <th></th>\n      <th></th>\n      <th>Duration (s)</th>\n    </tr>\n    <tr>\n      <th>Name</th>\n      <th>Type</th>\n      <th></th>\n    </tr>\n  </thead>\n  <tbody>\n    <tr>\n      <th>ambisonic-chicken-edited</th>\n      <th>AS</th>\n      <td>41.2</td>\n    </tr>\n    <tr>\n      <th>creak</th>\n      <th>NUS</th>\n      <td>27.2</td>\n    </tr>\n    <tr>\n      <th>door_crack</th>\n      <th>NNS</th>\n      <td>26.0</td>\n    </tr>\n    <tr>\n      <th>ambisonic-duck-edited 1</th>\n      <th>AN</th>\n      <td>24.9</td>\n    </tr>\n    <tr>\n      <th>australian-currawong-edited</th>\n      <th>AS</th>\n      <td>13.0</td>\n    </tr>\n    <tr>\n      <th>bird</th>\n      <th>NSS</th>\n      <td>9.4</td>\n    </tr>\n    <tr>\n      <th>cow</th>\n      <th>NUS</th>\n      <td>7.5</td>\n    </tr>\n    <tr>\n      <th>elevator-edited</th>\n      <th>AN</th>\n      <td>5.2</td>\n    </tr>\n    <tr>\n      <th>cowbells</th>\n      <th>NNS</th>\n      <td>4.9</td>\n    </tr>\n    <tr>\n      <th>bee</th>\n      <th>NSS</th>\n      <td>3.0</td>\n    </tr>\n  </tbody>\n</table>\n</div>"
     },
     "execution_count": 30,
     "metadata": {},
     "output_type": "execute_result"
    }
   ],
   "source": [
    "sums = duration_data.groupby(['Name', 'Type']).sum()\n",
    "sums.sort_values('Duration (s)', ascending=False, inplace=True)\n",
    "sums.head(100)"
   ],
   "metadata": {
    "collapsed": false,
    "pycharm": {
     "name": "#%%\n"
    }
   }
  },
  {
   "cell_type": "code",
   "execution_count": 31,
   "outputs": [
    {
     "data": {
      "text/plain": "                                  Duration (s)\nName                        Type              \nbee                         NSS       1.500000\nambisonic-chicken-edited    AS        1.287500\nambisonic-duck-edited 1     AN        1.185714\nbird                        NSS       1.044444\ndoor_crack                  NNS       1.040000\naustralian-currawong-edited AS        0.722222\ncreak                       NUS       0.715789\ncow                         NUS       0.681818\ncowbells                    NNS       0.445455\nelevator-edited             AN        0.325000",
      "text/html": "<div>\n<style scoped>\n    .dataframe tbody tr th:only-of-type {\n        vertical-align: middle;\n    }\n\n    .dataframe tbody tr th {\n        vertical-align: top;\n    }\n\n    .dataframe thead th {\n        text-align: right;\n    }\n</style>\n<table border=\"1\" class=\"dataframe\">\n  <thead>\n    <tr style=\"text-align: right;\">\n      <th></th>\n      <th></th>\n      <th>Duration (s)</th>\n    </tr>\n    <tr>\n      <th>Name</th>\n      <th>Type</th>\n      <th></th>\n    </tr>\n  </thead>\n  <tbody>\n    <tr>\n      <th>bee</th>\n      <th>NSS</th>\n      <td>1.500000</td>\n    </tr>\n    <tr>\n      <th>ambisonic-chicken-edited</th>\n      <th>AS</th>\n      <td>1.287500</td>\n    </tr>\n    <tr>\n      <th>ambisonic-duck-edited 1</th>\n      <th>AN</th>\n      <td>1.185714</td>\n    </tr>\n    <tr>\n      <th>bird</th>\n      <th>NSS</th>\n      <td>1.044444</td>\n    </tr>\n    <tr>\n      <th>door_crack</th>\n      <th>NNS</th>\n      <td>1.040000</td>\n    </tr>\n    <tr>\n      <th>australian-currawong-edited</th>\n      <th>AS</th>\n      <td>0.722222</td>\n    </tr>\n    <tr>\n      <th>creak</th>\n      <th>NUS</th>\n      <td>0.715789</td>\n    </tr>\n    <tr>\n      <th>cow</th>\n      <th>NUS</th>\n      <td>0.681818</td>\n    </tr>\n    <tr>\n      <th>cowbells</th>\n      <th>NNS</th>\n      <td>0.445455</td>\n    </tr>\n    <tr>\n      <th>elevator-edited</th>\n      <th>AN</th>\n      <td>0.325000</td>\n    </tr>\n  </tbody>\n</table>\n</div>"
     },
     "execution_count": 31,
     "metadata": {},
     "output_type": "execute_result"
    }
   ],
   "source": [
    "averages = duration_data.groupby(['Name', 'Type']).mean()\n",
    "averages.sort_values('Duration (s)', ascending=False, inplace=True)\n",
    "averages.head(100)"
   ],
   "metadata": {
    "collapsed": false,
    "pycharm": {
     "name": "#%%\n"
    }
   }
  },
  {
   "cell_type": "code",
   "execution_count": 32,
   "outputs": [
    {
     "data": {
      "text/plain": "      Duration (s)\nType              \nAN        0.755357\nAS        1.004861\nNNS       0.742727\nNSS       1.272222\nNUS       0.698804",
      "text/html": "<div>\n<style scoped>\n    .dataframe tbody tr th:only-of-type {\n        vertical-align: middle;\n    }\n\n    .dataframe tbody tr th {\n        vertical-align: top;\n    }\n\n    .dataframe thead th {\n        text-align: right;\n    }\n</style>\n<table border=\"1\" class=\"dataframe\">\n  <thead>\n    <tr style=\"text-align: right;\">\n      <th></th>\n      <th>Duration (s)</th>\n    </tr>\n    <tr>\n      <th>Type</th>\n      <th></th>\n    </tr>\n  </thead>\n  <tbody>\n    <tr>\n      <th>AN</th>\n      <td>0.755357</td>\n    </tr>\n    <tr>\n      <th>AS</th>\n      <td>1.004861</td>\n    </tr>\n    <tr>\n      <th>NNS</th>\n      <td>0.742727</td>\n    </tr>\n    <tr>\n      <th>NSS</th>\n      <td>1.272222</td>\n    </tr>\n    <tr>\n      <th>NUS</th>\n      <td>0.698804</td>\n    </tr>\n  </tbody>\n</table>\n</div>"
     },
     "execution_count": 32,
     "metadata": {},
     "output_type": "execute_result"
    }
   ],
   "source": [
    "averages.groupby(\"Type\").mean()"
   ],
   "metadata": {
    "collapsed": false,
    "pycharm": {
     "name": "#%%\n"
    }
   }
  },
  {
   "cell_type": "code",
   "execution_count": 32,
   "outputs": [],
   "source": [],
   "metadata": {
    "collapsed": false,
    "pycharm": {
     "name": "#%%\n"
    }
   }
  }
 ],
 "metadata": {
  "kernelspec": {
   "display_name": "Python 3",
   "language": "python",
   "name": "python3"
  },
  "language_info": {
   "codemirror_mode": {
    "name": "ipython",
    "version": 2
   },
   "file_extension": ".py",
   "mimetype": "text/x-python",
   "name": "python",
   "nbconvert_exporter": "python",
   "pygments_lexer": "ipython2",
   "version": "2.7.6"
  }
 },
 "nbformat": 4,
 "nbformat_minor": 0
}